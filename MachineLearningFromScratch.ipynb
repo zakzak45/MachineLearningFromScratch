{
  "nbformat": 4,
  "nbformat_minor": 0,
  "metadata": {
    "colab": {
      "provenance": []
    },
    "kernelspec": {
      "name": "python3",
      "display_name": "Python 3"
    },
    "language_info": {
      "name": "python"
    }
  },
  "cells": [
    {
      "cell_type": "code",
      "source": [
        "\n",
        "import pandas as pd\n",
        "from sklearn.datasets import load_diabetes\n",
        "from sklearn.model_selection import train_test_split\n",
        "from sklearn.linear_model import LinearRegression\n",
        "from sklearn.metrics import mean_squared_error\n",
        "\n",
        "\n",
        "data = load_diabetes()\n",
        "df = pd.DataFrame(data.data, columns=data.feature_names)\n",
        "df['target'] = data.target\n",
        "\n",
        "\n",
        "X = df.drop('target', axis=1)\n",
        "y = df['target']\n",
        "\n",
        "X_train, X_test, y_train, y_test = train_test_split(X, y, test_size=0.2, random_state=42)\n",
        "\n",
        "\n",
        "model = LinearRegression()\n",
        "model.fit(X_train, y_train)\n",
        "\n",
        "\n",
        "y_pred = model.predict(X_test)\n",
        "\n",
        "# Step 6: Evaluate the model\n",
        "mse = mean_squared_error(y_test, y_pred)\n",
        "print(f\"Mean Squared Error: {mse:.2f}\")\n"
      ],
      "metadata": {
        "id": "xHvtwni01Rs8",
        "colab": {
          "base_uri": "https://localhost:8080/"
        },
        "outputId": "7a092153-e692-4dfa-d10e-8df3ba86e325"
      },
      "execution_count": 1,
      "outputs": [
        {
          "output_type": "stream",
          "name": "stdout",
          "text": [
            "Mean Squared Error: 2900.19\n"
          ]
        }
      ]
    },
    {
      "cell_type": "code",
      "source": [],
      "metadata": {
        "id": "yliZEdBQQWr9"
      },
      "execution_count": 3,
      "outputs": []
    },
    {
      "cell_type": "code",
      "source": [
        "import pandas as pd\n",
        "from sklearn.linear_model import  LinearRegression\n",
        "import numpy as  np\n",
        "import matplotlib.pyplot as plt\n",
        "\n",
        "# fake test data for x an y\n",
        "X = np.array([1, 2, 3, 4, 5]).reshape(-1, 1)  # Reshape for sklearn\n",
        "y = np.array([2, 4, 5, 4, 5])\n",
        "\n",
        "\n",
        "\n",
        "\n",
        "model =LinearRegression()\n",
        "\n",
        "model.fit(X,y)\n",
        "\n",
        "y_pred = model.predict(X)\n",
        "\n",
        "\n",
        "print(y_pred)\n",
        "\n",
        "\n",
        "plt.scatter(X,y ,color=\"red\"  ,label=\"actual\")\n",
        "plt.plot(X,y_pred ,color=\"blue\" ,label=\"predicted\")\n",
        "plt.xlabel('X')\n",
        "plt.ylabel('Y')\n",
        "plt.legend()\n",
        "plt.show()\n",
        "\n",
        "\n",
        "\n",
        "\n",
        "\n",
        "\n"
      ],
      "metadata": {
        "colab": {
          "base_uri": "https://localhost:8080/",
          "height": 466
        },
        "id": "oRIpoQS4QIzE",
        "outputId": "d3b42575-3224-4070-df27-356523681f72"
      },
      "execution_count": 20,
      "outputs": [
        {
          "output_type": "stream",
          "name": "stdout",
          "text": [
            "[2.8 3.4 4.  4.6 5.2]\n"
          ]
        },
        {
          "output_type": "display_data",
          "data": {
            "text/plain": [
              "<Figure size 640x480 with 1 Axes>"
            ],
            "image/png": "[encoded data removed]"
          },
          "metadata": {}
        }
      ]
    }
  ]
}